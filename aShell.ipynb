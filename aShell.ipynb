{
 "cells": [
  {
   "cell_type": "markdown",
   "metadata": {},
   "source": [
    "# Amanda (iPad Pro) Geekbench\n",
    "\n",
    "- [Notes-Regarding the iPad Professional](drafts://open?uuid=3862CF0D-843C-4BDE-996A-054F901FBE16)\n",
    "- [WTF](https://davidblue.wtf/drafts/766CD93A-4DCA-4212-80E4-DCAD04C6D523.html)\n",
    "\n",
    "---\n",
    "\n",
    "## CPU\n",
    "- [iPad Pro (12.9-inch 5th generation) - Geekbench Browser](https://browser.geekbench.com/v5/cpu/15459877)\n",
    "- [iPad Pro (12.9-inch 5th generation) - Geekbench Browser](https://browser.geekbench.com/v5/cpu/15371388)\n",
    "- [iPad Pro (12.9-inch 5th generation) - Geekbench Browser](https://browser.geekbench.com/v5/cpu/15371000)\n",
    "- [iPad Pro (12.9-inch 5th generation) - Geekbench Browser](https://browser.geekbench.com/v5/cpu/14969603)\n",
    "- [iPad Pro (12.9-inch 5th generation) - Geekbench Browser](https://browser.geekbench.com/v5/cpu/11479297)\n",
    "\n",
    "## Compute\n",
    "- [iPad Pro (12.9-inch 5th generation) - Geekbench Browser](https://browser.geekbench.com/v5/compute/4974952)\n",
    "- [iPad Pro (12.9-inch 5th generation) - Geekbench Browser](https://browser.geekbench.com/v5/compute/4949216)\n",
    "- [iPad Pro (12.9-inch 5th generation) - Geekbench Browser](https://browser.geekbench.com/v5/compute/4949110)\n",
    "- [iPad Pro (12.9-inch 5th generation) - Geekbench Browser](https://browser.geekbench.com/v5/compute/4839416)\n",
    "- [iPad Pro (12.9-inch 5th generation) - Geekbench Browser](https://browser.geekbench.com/v5/compute/3870072)"
   ]
  },
  {
   "cell_type": "markdown",
   "metadata": {},
   "source": [
    "## <html><head>\n",
    "\n",
    "\n",
    "<!-- Load require.js. Delete this if your page already loads require.js -->\n",
    "<script src=\"https://cdnjs.cloudflare.com/ajax/libs/require.js/2.3.4/require.min.js\" integrity=\"sha256-Ae2Vz/4ePdIu6ZyI/5ZGsYnb+m0JlOmKPjt6XZ9JJkA=\" crossorigin=\"anonymous\"></script>\n",
    "<script src=\"https://unpkg.com/@jupyter-widgets/html-manager@*/dist/embed-amd.js\" crossorigin=\"anonymous\"></script>\n",
    "<script type=\"application/vnd.jupyter.widget-state+json\">\n",
    "{\n",
    "    \"version_major\": 2,\n",
    "    \"version_minor\": 0,\n",
    "    \"state\": {}\n",
    "}\n",
    "</script>\n",
    "</head>\n",
    "<body>\n",
    "\n",
    "\n",
    "</body>\n",
    "</html>"
   ]
  }
 ],
 "metadata": {
  "celltoolbar": "Edit Metadata",
  "kernelspec": {
   "display_name": "Python 3 (ipykernel)",
   "language": "python",
   "name": "python3"
  },
  "language_info": {
   "codemirror_mode": {
    "name": "ipython",
    "version": 3
   },
   "file_extension": ".py",
   "mimetype": "text/x-python",
   "name": "python",
   "nbconvert_exporter": "python",
   "pygments_lexer": "ipython3",
   "version": "3.9.10+"
  }
 },
 "nbformat": 4,
 "nbformat_minor": 2
}
